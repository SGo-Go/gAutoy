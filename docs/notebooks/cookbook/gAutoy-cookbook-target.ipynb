{
 "cells": [
  {
   "cell_type": "markdown",
   "metadata": {},
   "source": [
    "# Target"
   ]
  },
  {
   "cell_type": "markdown",
   "metadata": {},
   "source": [
    "Before any manipulations with targets import and configure `gautoy`"
   ]
  },
  {
   "cell_type": "code",
   "execution_count": 1,
   "metadata": {},
   "outputs": [
    {
     "data": {
      "application/javascript": [
       "IPython.CodeCell.config_defaults.highlight_modes['bash'] = {'reg':[/^%%gautoy_bash/]};"
      ]
     },
     "metadata": {},
     "output_type": "display_data"
    }
   ],
   "source": [
    "import gautoy\n",
    "gautoy.core.config.set_option('target.ip', '196.1.1.1')"
   ]
  },
  {
   "cell_type": "markdown",
   "metadata": {},
   "source": [
    "## Configuring"
   ]
  },
  {
   "cell_type": "markdown",
   "metadata": {},
   "source": [
    "Target access can be configured in a standard way via `gAutoy` *configuration options*. To get their list use:"
   ]
  },
  {
   "cell_type": "code",
   "execution_count": null,
   "metadata": {},
   "outputs": [],
   "source": [
    "gautoy.core.config.describe_option('target')"
   ]
  },
  {
   "cell_type": "markdown",
   "metadata": {},
   "source": [
    "As you can see, by default we use SSH connect with [`paramiko`](http://www.paramiko.org/) library to get access to target. Use `backend.target` option to change this behaviour."
   ]
  },
  {
   "cell_type": "markdown",
   "metadata": {},
   "source": [
    "## Basic use"
   ]
  },
  {
   "cell_type": "markdown",
   "metadata": {},
   "source": [
    "To get access to the default target use function `get_target()` which returns target object. If you want to manipulate with several targets with different IPs use function `new_target()`:"
   ]
  },
  {
   "cell_type": "markdown",
   "metadata": {},
   "source": [
    "Set of target object methods is similar to the set of standard `sys` library functions."
   ]
  },
  {
   "cell_type": "markdown",
   "metadata": {},
   "source": [
    "In the cell below we copy `/opt/nav/some/path/to/configs/navigation.ini` from target with IP `196.1.1.1` to the default target."
   ]
  },
  {
   "cell_type": "code",
   "execution_count": 3,
   "metadata": {},
   "outputs": [],
   "source": [
    "target = gautoy.new_target('196.1.1.1')\n",
    "target.get(r'/opt/nav/eceusa/bin/navigation.ini', '.') # copy navigation.ini from target to local CWD\n",
    "# !cat -n navigation.ini\n",
    "target = gautoy.get_target()\n",
    "target.system(r'mount -uw /fs/sda0')                   # mount /fs/sda0 to make it writable\n",
    "target.put('navigation.ini', r'/opt/nav/some/path/to/configs')   # copy local navigation.ini to target\n",
    "# clean up temporary local navigation.ini\n",
    "!rm navigation.ini"
   ]
  },
  {
   "cell_type": "markdown",
   "metadata": {},
   "source": [
    "## Examples"
   ]
  },
  {
   "cell_type": "markdown",
   "metadata": {},
   "source": [
    "For more examples see [cells collection](cells/gAutoy-cells-target.ipynb)."
   ]
  }
 ],
 "metadata": {
  "kernelspec": {
   "display_name": "Python 3",
   "language": "python",
   "name": "python3"
  },
  "language_info": {
   "codemirror_mode": {
    "name": "ipython",
    "version": 3
   },
   "file_extension": ".py",
   "mimetype": "text/x-python",
   "name": "python",
   "nbconvert_exporter": "python",
   "pygments_lexer": "ipython3",
   "version": "3.8.5"
  }
 },
 "nbformat": 4,
 "nbformat_minor": 1
}
