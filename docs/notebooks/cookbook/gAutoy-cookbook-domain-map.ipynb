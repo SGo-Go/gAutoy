{
 "cells": [
  {
   "cell_type": "markdown",
   "metadata": {},
   "source": [
    "# Domain for manipulations with maps"
   ]
  },
  {
   "cell_type": "markdown",
   "metadata": {},
   "source": [
    "## Basic use"
   ]
  },
  {
   "cell_type": "markdown",
   "metadata": {},
   "source": [
    "First of all, load  `gautoy` and confidure domain `map`"
   ]
  },
  {
   "cell_type": "code",
   "execution_count": 1,
   "metadata": {},
   "outputs": [],
   "source": [
    "import gautoy\n",
    "from gautoy import pattern\n",
    "gautoy.core.config.set_option('domain.map.template_folder',  r'../../gautoy/domain/maps/jinja2')\n",
    "gautoy.core.config.set_option('domain.map.info_text_format', 'markdown')\n",
    "gautoy.core.config.set_option('domain.map.height', '300')"
   ]
  },
  {
   "cell_type": "markdown",
   "metadata": {},
   "source": [
    "Central class in the domain `map` is `BaseMapHolder`. \n",
    "It represents the map instance which can be filled with labels (method `new_label`) and paths (method `new_path`).\n",
    "See example below:"
   ]
  },
  {
   "cell_type": "code",
   "execution_count": 2,
   "metadata": {
    "scrolled": true
   },
   "outputs": [
    {
     "data": {
      "text/html": [
       "<iframe src=\"test_gmaps.html\"  width=\"100%\" height=\"300\"></iframe>"
      ],
      "text/plain": [
       "<gautoy.domain.maps.BaseMapHolder.BaseMapHolder at 0x6125a70>"
      ]
     },
     "execution_count": 2,
     "metadata": {},
     "output_type": "execute_result"
    }
   ],
   "source": [
    "from gautoy.domain.maps import *\n",
    "\n",
    "gmap = BaseMapHolder(default_output = 'test_gmaps.html') # create basic map and store it 'test_gmaps.html'\n",
    "path = []\n",
    "for coos, name, descr, icon, color in (((48.965299, 37.816164), 'Start', 'An *accident* was here', 'turnaround', None),\n",
    "                                       ((48.965909, 37.810709), 'Progress', 'Doctors **fixed** it here', None, None),\n",
    "                                       ((48.969600, 37.807539), 'Finish', \n",
    "                                        \"They _left_ patiend here with\\n\\n- pizza\\n- cheery mood\", None, 'green'),):\n",
    "    # add labels on the map\n",
    "    gmap.new_label(coos, name = name, description = descr, icon = icon, color = color)\n",
    "    # fill up path with labels coordinates\n",
    "    path.append(coos) \n",
    "# add path that connects these labels\n",
    "gmap.new_path(path, name='Guidance',color='black', weight=1)\n",
    "\n",
    "gmap # show map"
   ]
  },
  {
   "cell_type": "markdown",
   "metadata": {},
   "source": [
    "## Filling maps with the information from traces"
   ]
  },
  {
   "cell_type": "markdown",
   "metadata": {},
   "source": [
    "`BaseMapHolder` instances (in combination with decorator `patternic`) are particularly convenient for creating maps on the basis on log messages. The following code shows how to define class `MapWithRoute` that extracts routes from traces into the map."
   ]
  },
  {
   "cell_type": "code",
   "execution_count": 4,
   "metadata": {},
   "outputs": [],
   "source": [
    "logs = gautoy.get_logger()\n",
    "\n",
    "from gautoy.domain.maps import BaseMapHolder\n",
    "\n",
    "@pattern.patternic\n",
    "class MapWithRoute(BaseMapHolder):\n",
    "    def __init__(self, *args,**kwargs):\n",
    "        super(MapWithRoute, self).__init__(*args,**kwargs)\n",
    "        self.car_position = 0,0\n",
    "        self.curr_route_id = -1\n",
    "        self.curr_route = None\n",
    "\n",
    "    @pattern.handler(r'some trace log that collect the following info about car: ts[%d] route[%d] lon=%d lat=%d linkId=%d heading=%f link.heading=%f',\n",
    "                     ['ts', 'route', 'lon_WGS84', 'lat_WGS84', 'linkId', 'heading', 'link_heading'])\n",
    "    def storeCarPosition(self,r): \n",
    "        self.car_position = gautoy.converter.WGS84_to_latlon(r.lon_WGS84, r.lat_WGS84)\n",
    "        route_id = int(r.route)\n",
    "        if route_id != self.curr_route_id: \n",
    "            self.curr_route_id = route_id\n",
    "            self.curr_route = self.new_path([], weight=2, name='Route {0}'.format(self.curr_route_id))\n",
    "            if len(self.paths) >= 2: self.curr_route.append(self.paths[-2].path[-1])\n",
    "        self.curr_route.append(self.car_position)"
   ]
  },
  {
   "cell_type": "markdown",
   "metadata": {},
   "source": [
    "Next cell illustrates class that shows positions on the routes where screenshots were taken."
   ]
  },
  {
   "cell_type": "code",
   "execution_count": 5,
   "metadata": {
    "scrolled": false
   },
   "outputs": [
    {
     "data": {
      "text/html": [
       "<iframe src=\"notifier_gmaps.html\"  width=\"100%\" height=\"300\"></iframe>"
      ],
      "text/plain": [
       "<__main__.Notifier at 0x9fb9dd0>"
      ]
     },
     "execution_count": 5,
     "metadata": {},
     "output_type": "execute_result"
    }
   ],
   "source": [
    "import datetime\n",
    "patternDoingScreenshot = pattern.compile(r'Some trace to catch screenshot with filename '\\\n",
    "                                         r'(?P<fullname>(?P<name>something(?P<ext>\\.png)) taken at (?P<datetime>(?P<date>\\d+)(?P<time>\\d+))(?P<type>.+))',\n",
    "                                         parsers = {\n",
    "                                             'datetime': lambda d: datetime.datetime.strptime(d, '%Y%m%d-%H%M%S'),\n",
    "                                             'date'    : lambda d: datetime.datetime.strptime(d, '%Y%m%d').date(),\n",
    "                                             'time'    : lambda d: datetime.datetime.strptime(d, '%H%M%S').time()},\n",
    "                                         formatters = {\n",
    "                                             'datetime': lambda d: d if isinstance(d, basestring) else d.strftime('%Y%m%d-%H%M%S'),\n",
    "                                             'date'    : lambda d: d if isinstance(d, basestring) else d.strftime('%Y%m%d'),\n",
    "                                             'time'    : lambda d: d if isinstance(d, basestring) else d.strftime('%H%M%S')}\n",
    "                                        )\n",
    "\n",
    "@pattern.patternic\n",
    "class Notifier(MapWithRoute): # inherit from class which stores current car position\n",
    "    def __init__(self, log, *args, **kwargs): \n",
    "        super(Notifier, self).__init__(*args, **kwargs)\n",
    "        # Walk immediately inside constructor to fill class up with log info\n",
    "        self.walk(log)\n",
    "\n",
    "    def message(self, msg): \n",
    "        # Decorate info string with current car position at the bottom\n",
    "        return ('{1}\\n\\n<small style=\\\\\\\"color:gray\\\\\\\">{0[0]:.5f}, {0[1]:.5f}</small>'.format(self.car_position, msg))\n",
    "\n",
    "    @pattern.handler(patternDoingScreenshot(type='HU1'))\n",
    "    def handleDoingScreenshot(self,r): \n",
    "        if r.date != datetime.date.today(): \n",
    "            descr = self.message(\"\"\"\n",
    "name  : `{0.fullname}`\n",
    "date  : *{0.date}*\n",
    "today : *{1}*\n",
    "\"\"\".format(r, datetime.date.today()))\n",
    "            self.new_label(self.car_position, icon='screenshot', name = 'Screenshot', description=descr)\n",
    "\n",
    "Notifier(logs, default_output = 'notifier_gmaps.html')"
   ]
  }
 ],
 "metadata": {
  "kernelspec": {
   "display_name": "Python 3",
   "language": "python",
   "name": "python3"
  },
  "language_info": {
   "codemirror_mode": {
    "name": "ipython",
    "version": 3
   },
   "file_extension": ".py",
   "mimetype": "text/x-python",
   "name": "python",
   "nbconvert_exporter": "python",
   "pygments_lexer": "ipython3",
   "version": "3.8.5"
  }
 },
 "nbformat": 4,
 "nbformat_minor": 1
}
