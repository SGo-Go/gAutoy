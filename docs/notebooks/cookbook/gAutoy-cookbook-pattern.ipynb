{
 "cells": [
  {
   "cell_type": "markdown",
   "metadata": {},
   "source": [
    "# Patterns : Pattern Specification, Patternic Algebra, and Improved Search"
   ]
  },
  {
   "cell_type": "markdown",
   "metadata": {},
   "source": [
    "In skilly hands, `gAutoy` patterns provide efficient mechanism for spotlighting relevant information from logs. \n",
    " `gAutoy` patterns were inspired by [`Python` regular expressions](https://docs.python.org/2/library/re.html) and have similar functionality advanced and adopted to the purposes of log search (in contrast to convential text search with regexps)."
   ]
  },
  {
   "cell_type": "markdown",
   "metadata": {},
   "source": [
    "## Prerequisites"
   ]
  },
  {
   "cell_type": "markdown",
   "metadata": {},
   "source": [
    "Before trace analysis with `gautoy` pattern facilities, configure `gautoy`, create logger instance with `get_logger()` and load traces (or connect logger for traces listening)"
   ]
  },
  {
   "cell_type": "code",
   "execution_count": 1,
   "metadata": {},
   "outputs": [],
   "source": [
    "import gautoy\n",
    "from gautoy import pattern\n",
    "gautoy.init_printing()\n",
    "from gautoy.core.output import pprint\n",
    "#gautoy.core.config.set_option('target.ip', '196.1.1.1')\n",
    "logs = gautoy.get_logger()\n",
    "\n",
    "import os\n",
    "#os.chdir(r'')\n",
    "logs.load(r'/path/to/trace.xaa')\n",
    "\n",
    "gautoy.core.config.set_option(r'display.log.output', 'Message TimeStamp')"
   ]
  },
  {
   "cell_type": "markdown",
   "metadata": {},
   "source": [
    "## Defining Patterns"
   ]
  },
  {
   "cell_type": "markdown",
   "metadata": {},
   "source": [
    "### Basic patterns"
   ]
  },
  {
   "cell_type": "markdown",
   "metadata": {},
   "source": [
    "*Basic* (or so called *atomic*) patterns provide basic log search functionality, and serve as building blocks for specilication of more complicates patternic structures. \n",
    "`gAutoy` provides two ways to define atomic patterns: via C format strings and via [`Python` regular expressions](https://docs.python.org/2/library/re.html). \n",
    "Atomic patterns of both types can be created with function `compile()` from subpackage `gautoy.pattern`."
   ]
  },
  {
   "cell_type": "markdown",
   "metadata": {},
   "source": [
    "The easiest way to define atomic pattern in `gAutoy` is to use **C format** based patterns. \n",
    "In this case, the user must specify C format string and the list with mnemonic names for each of the formatted pattern fields.\n",
    "User does not have control on parsing and formatting of pattern fields, these are fully driven by C format string.\n",
    "Next cell specifies pattern for the new car position message:"
   ]
  },
  {
   "cell_type": "code",
   "execution_count": null,
   "metadata": {},
   "outputs": [],
   "source": [
    "patternCarPosition = pattern.compile(r'some log entry format for car position: ts[%d] route[%d] lon=%d lat=%d linkId=%d heading=%f link.heading=%f',\n",
    "                                     ['ts', 'route', 'lon_WGS84', 'lat_WGS84', 'linkId', 'heading', 'link_heading'])\n",
    "patternCarPosition"
   ]
  },
  {
   "cell_type": "markdown",
   "metadata": {},
   "source": [
    "C format based pattern for MOST messages has a following definition:"
   ]
  },
  {
   "cell_type": "code",
   "execution_count": null,
   "metadata": {},
   "outputs": [],
   "source": [
    "pattern.compile(r'Some MOST bus trace which contains info about %4X, %4X %4X %2X %2X %3X %1X %4X %s',\n",
    "                ['no', 'from', 'to', 'funcBlock', 'device', 'funcId', 'opCode', 'size', 'data'])"
   ]
  },
  {
   "cell_type": "markdown",
   "metadata": {},
   "source": [
    "In contrast, **regexp** based patterns somewhat trickier to define, but they provide full controll on pattern's parsers and formatters.\n",
    "Here is a regexp based patterns for MOST messages similar to the previous one:"
   ]
  },
  {
   "cell_type": "code",
   "execution_count": null,
   "metadata": {},
   "outputs": [],
   "source": [
    "patternMOST = pattern.compile(r\"Some MOST bus trace which contains info about (?P<from>[0-9A-F]+) (?P<to>[0-9A-F]+) \"\\\n",
    "                              r\"(?P<funcBlock>[0-9A-F]+) (?P<device>[0-9A-F]+) (?P<funcId>[0-9A-F]+) \"\\\n",
    "                              r\"(?P<opCode>[0-9A-F]) (?P<size>[0-9A-F]+) (?P<data>([0-9A-F][0-9A-F])*)\",\n",
    "                                         parsers = {\n",
    "                                             'funcBlock': lambda s: int(s, 16),\n",
    "                                             'device'   : lambda s: int(s, 16),\n",
    "                                             'funcId'   : lambda s: int(s, 16),\n",
    "                                             'opCode'   : lambda s: int(s, 16),\n",
    "                                             'size'     : lambda s: int(s, 16),\n",
    "                                             'data'     : lambda s: tuple(int(x+y,16) for x,y in zip(s[0::2], s[1::2]))},\n",
    "                                         formatters = {\n",
    "                                             'funcBlock': lambda x: r'{0:02X}'.format(x),\n",
    "                                             'device'   : lambda x: r'{0:02X}'.format(x),\n",
    "                                             'funcId'   : lambda x: r'{0:03X}'.format(x),\n",
    "                                             'opCode'   : lambda x: r'{0:1X}'.format(x),\n",
    "                                             'size'     : lambda x: r'{0:04X}'.format(x),\n",
    "                                             'data'     : lambda x: ''.join('%02X'%a for a in x),}\n",
    "                             )\n",
    "patternMOST"
   ]
  },
  {
   "cell_type": "markdown",
   "metadata": {},
   "source": [
    "Note, some pattern fields are left without parsers and formatters (e.g., `data`). These fields are treated as normal strings."
   ]
  },
  {
   "cell_type": "markdown",
   "metadata": {},
   "source": [
    "Here is a bit more sophisticated regexp based pattern for message notifying about screenshots"
   ]
  },
  {
   "cell_type": "code",
   "execution_count": null,
   "metadata": {},
   "outputs": [],
   "source": [
    "import datetime\n",
    "patternDoingScreenshot = pattern.compile(r'Some trace to catch screenshot with filename '\\\n",
    "                                         r'(?P<fullname>(?P<name>something(?P<ext>\\.png)) taken at (?P<datetime>(?P<date>\\d+)(?P<time>\\d+))(?P<type>.+))',\n",
    "                                         parsers = {\n",
    "                                             'datetime': lambda d: datetime.datetime.strptime(d, '%Y%m%d-%H%M%S'),\n",
    "                                             'date'    : lambda d: datetime.datetime.strptime(d, '%Y%m%d').date(),\n",
    "                                             'time'    : lambda d: datetime.datetime.strptime(d, '%H%M%S').time()},\n",
    "                                         formatters = {\n",
    "                                             'datetime': lambda d: d if isinstance(d, basestring) else d.strftime('%Y%m%d-%H%M%S'),\n",
    "                                             'date'    : lambda d: d if isinstance(d, basestring) else d.strftime('%Y%m%d'),\n",
    "                                             'time'    : lambda d: d if isinstance(d, basestring) else d.strftime('%H%M%S')}\n",
    "                                        )\n",
    "patternDoingScreenshot"
   ]
  },
  {
   "cell_type": "markdown",
   "metadata": {},
   "source": [
    "Note, in this pattern we use nested groups (e.g., group `time` is a part of group `datetime`, the latter is a part of `name` and `fullname`). You cannot easily make nested groups inside "
   ]
  },
  {
   "cell_type": "markdown",
   "metadata": {},
   "source": [
    "In order to narrow search, the user has an opportunity to **specialize** pattern -- assign certain values to the pattern fields.\n",
    "To do it, simply list the groups with the new values in brackets as shown below. \n",
    "This will return you a new narrower pattern. "
   ]
  },
  {
   "cell_type": "code",
   "execution_count": null,
   "metadata": {},
   "outputs": [],
   "source": [
    "patternMOST(funcId=0xC2F,device=0, size=1, data = [0x1A, 0x10])"
   ]
  },
  {
   "cell_type": "markdown",
   "metadata": {},
   "source": [
    "Fields also can be accessed by their positions (which is the only way to access ananymous fields):"
   ]
  },
  {
   "cell_type": "code",
   "execution_count": null,
   "metadata": {},
   "outputs": [],
   "source": [
    "patternMOST(1,'0018', 6, 0xC2F, size=1, data=[0x1A])"
   ]
  },
  {
   "cell_type": "markdown",
   "metadata": {},
   "source": [
    "### Advanced searcheable structures and algebra of patterns"
   ]
  },
  {
   "cell_type": "markdown",
   "metadata": {},
   "source": [
    "Atomic patterns are not only simple trace search instruments, but also builing blocks for advanced **searcheable structures**: *multiline patterns* and *pattern multi-sets* (sets with possible repetitions). `gAutoy`'s algebra of patterns provides an easy mechanism to construct both."
   ]
  },
  {
   "cell_type": "markdown",
   "metadata": {},
   "source": [
    "#### Multiline patterns"
   ]
  },
  {
   "cell_type": "markdown",
   "metadata": {},
   "source": [
    "We suggest to use multiline patterns, if the user has a situation when the function/method of interest consequently writes several log messages, each of which conveys piece of relevant information."
   ]
  },
  {
   "cell_type": "markdown",
   "metadata": {},
   "source": [
    "To define multiline patterns, use either bit-wise and `&` or multiplication `*`:"
   ]
  },
  {
   "cell_type": "code",
   "execution_count": 10,
   "metadata": {},
   "outputs": [
    {
     "data": {
      "text/plain": [
       "(pattern(r'a')&pattern(r'b'), pattern(r'a')&pattern(r'b'))"
      ]
     },
     "execution_count": 10,
     "metadata": {},
     "output_type": "execute_result"
    }
   ],
   "source": [
    "a = pattern.compile('a')\n",
    "b = pattern.compile('b')\n",
    "x = a & b\n",
    "x, a * b"
   ]
  },
  {
   "cell_type": "markdown",
   "metadata": {},
   "source": [
    "You can use `&=` and/or `*=` operations as well.\n",
    "Finally, power taking operator `**` allows to repeat atomic patterns in multiline pattern"
   ]
  },
  {
   "cell_type": "code",
   "execution_count": 11,
   "metadata": {},
   "outputs": [
    {
     "data": {
      "text/plain": [
       "pattern(r'a')&pattern(r'b')&pattern(r'a')&pattern(r'a')"
      ]
     },
     "execution_count": 11,
     "metadata": {},
     "output_type": "execute_result"
    }
   ],
   "source": [
    "x &= a**2\n",
    "x"
   ]
  },
  {
   "cell_type": "markdown",
   "metadata": {},
   "source": [
    "Multiline patterns will search groups of closest messages positioned in the given order.\n",
    "E.g., if the log contains messages \n",
    "`['c', 'a', 'c', 'a', 'c', 'b', 'c', 'b', 'a', 'b', 'x', 'a', 'x', 'x']`,\n",
    "pattern `x` will return single match with message positions `(3 ,7, 8, 11)`:"
   ]
  },
  {
   "cell_type": "code",
   "execution_count": 12,
   "metadata": {},
   "outputs": [
    {
     "data": {
      "text/html": [
       "['a', 'b', 'a', 'a']"
      ],
      "text/plain": [
       "['a', 'b', 'a', 'a']"
      ]
     },
     "execution_count": 12,
     "metadata": {},
     "output_type": "execute_result"
    }
   ],
   "source": [
    "log_content = list('cacacbcbabxaxx')\n",
    "match_indices = 3,7,8,11\n",
    "[log_content[i] for i in match_indices]"
   ]
  },
  {
   "cell_type": "markdown",
   "metadata": {},
   "source": [
    "#### Pattern multi-sets"
   ]
  },
  {
   "cell_type": "markdown",
   "metadata": {},
   "source": [
    "Pattern multi-sets serve the purposes of handling several patterns as a whole. E.g., to apply several patterns to log in arbitrary order."
   ]
  },
  {
   "cell_type": "markdown",
   "metadata": {},
   "source": [
    "To define multiline patterns, use either bit-wise or `|` or addition `+`:"
   ]
  },
  {
   "cell_type": "code",
   "execution_count": 13,
   "metadata": {},
   "outputs": [
    {
     "data": {
      "text/plain": [
       "pattern(r'a') | \n",
       "pattern(r'b')"
      ]
     },
     "execution_count": 13,
     "metadata": {},
     "output_type": "execute_result"
    }
   ],
   "source": [
    "x = a + b\n",
    "x"
   ]
  },
  {
   "cell_type": "markdown",
   "metadata": {},
   "source": [
    "You can also use `|=` and/or `+=` operations."
   ]
  },
  {
   "cell_type": "code",
   "execution_count": 14,
   "metadata": {},
   "outputs": [
    {
     "data": {
      "text/plain": [
       "pattern(r'a') | \n",
       "pattern(r'b') | \n",
       "pattern(r'a')&pattern(r'a')&pattern(r'b')"
      ]
     },
     "execution_count": 14,
     "metadata": {},
     "output_type": "execute_result"
    }
   ],
   "source": [
    "x |= a**2 * b\n",
    "x"
   ]
  },
  {
   "cell_type": "markdown",
   "metadata": {},
   "source": [
    "#### More on algebra"
   ]
  },
  {
   "cell_type": "markdown",
   "metadata": {},
   "source": [
    "Note that both ways to define patterns -- via arithmetic operators (`*`, `+`) and via bit-wise operators (`&`, `|`) -- are totally similar."
   ]
  },
  {
   "cell_type": "markdown",
   "metadata": {},
   "source": [
    "Next note (for mathematicians), patternic \"algebra\" is not an algebra in a common mathematical sense --\n",
    "it does not define neither algebra, nor even ring of patterns, though it satisfies most axioms of non-commutative rings. E.g., it follows associative and distributive laws, but it does not have additive identity element (so consequently lacks additive inverses)."
   ]
  },
  {
   "cell_type": "code",
   "execution_count": 15,
   "metadata": {},
   "outputs": [
    {
     "data": {
      "text/plain": [
       "pattern(r'a')&pattern(r'a')&pattern(r'b') | \n",
       "pattern(r'a')&pattern(r'a')&pattern(r'c')"
      ]
     },
     "execution_count": 15,
     "metadata": {},
     "output_type": "execute_result"
    }
   ],
   "source": [
    "a = pattern.compile('a')\n",
    "b = pattern.compile('b')\n",
    "c = pattern.compile('c')\n",
    "\n",
    "a**2 * (b + c)"
   ]
  },
  {
   "cell_type": "markdown",
   "metadata": {},
   "source": [
    "## Search methods"
   ]
  },
  {
   "cell_type": "markdown",
   "metadata": {},
   "source": [
    "### Conventional search methods"
   ]
  },
  {
   "cell_type": "markdown",
   "metadata": {},
   "source": [
    "Search facilities of basic patterns and patternic structures are similar (almost 1-2-1) to those provided by `Python` regexps. \n",
    "Next table lists the most popular search methods:\n",
    "\n",
    "<table>\n",
    "<tr>\n",
    "<th>Method</th>\n",
    "<th>Description</th>\n",
    "</tr>\n",
    "<tr>\n",
    "<td>`finditer`</td>\n",
    "<td>Return an iterator yielding MatchObject instances over all matches for the pattern in `log_frame`. The `log_frame` is scanned top-to-down, and matches are returned in the order found.</td>\n",
    "</tr>\n",
    "<tr>\n",
    "<td>`findall`</td>\n",
    "<td>Return all matches of pattern in `log_frame`, as a list of matches. The `log_frame` is scanned top-to-down, and matches are returned in the order found.</td>\n",
    "</tr>\n",
    "<tr>\n",
    "<td>`match`</td>\n",
    "<td>If message at the given line `pos` in `log_frame` matches pattern, return a corresponding MatchObject instance (otherwise `None`).</td>\n",
    "</tr>\n",
    "<tr>\n",
    "<td>`search`</td>\n",
    "<td>Scan through `log_frame` looking for the first location where the pattern produces a match, and return a corresponding MatchObject instance (otherwise `None`).</td>\n",
    "</tr>\n",
    "</table>\n",
    "\n",
    "Note that all these methods return either MatchObject of MatchObject lists if succeed. If nothing is found, they return `None`.\n",
    "\n",
    "See a couple of examples below"
   ]
  },
  {
   "cell_type": "code",
   "execution_count": null,
   "metadata": {},
   "outputs": [],
   "source": [
    "patternDoingScreenshot.findall(logs)"
   ]
  },
  {
   "cell_type": "code",
   "execution_count": null,
   "metadata": {},
   "outputs": [],
   "source": [
    "patternDoingScreenshot(type='KOMBI').findall(logs)"
   ]
  },
  {
   "cell_type": "code",
   "execution_count": null,
   "metadata": {},
   "outputs": [],
   "source": [
    "patternDoingScreenshot.search(logs, pos=100)"
   ]
  },
  {
   "cell_type": "code",
   "execution_count": 22,
   "metadata": {
    "collapsed": true
   },
   "outputs": [],
   "source": [
    "patternDoingScreenshot.match(logs, pos=100)"
   ]
  },
  {
   "cell_type": "markdown",
   "metadata": {},
   "source": [
    "### Match objects"
   ]
  },
  {
   "cell_type": "markdown",
   "metadata": {},
   "source": [
    "Match objects does not only allow pretty output in notebook environment, but also give access to pattern match information user can be interested in. There are two sorts of match objects: atomic pattern matches and multi-line pattern matches (Pattern multi-sets do not have own match type and return individual match objects atomic and multi-line patterns, they are composed of).\n",
    "\n",
    "Below is a lists of the most common match object properties:\n",
    "\n",
    "<table>\n",
    "<tr>\n",
    "<th>Property</th>\n",
    "<th>Description</th>\n",
    "</tr>\n",
    "<tr>\n",
    "<td>`pattern`</td>\n",
    "<td>Host pattern for this match object.</td>\n",
    "</tr>\n",
    "<tr>\n",
    "<td>`pos`</td>\n",
    "<td>Line no in the log where the match starts.</td>\n",
    "</tr>\n",
    "<tr>\n",
    "<td>`endpos`</td>\n",
    "<td>Line no of message which follows the match in the log.</td>\n",
    "</tr>\n",
    "</table>\n",
    "\n",
    "Named match fields can be accesssed as attributes for both atomic and multi-line match objects. \n",
    "In atomic match objects, you can access messages time stamps and other fields directly as properties.\n",
    "Information about individual matched messages in multiline match can be accessed by indices. "
   ]
  },
  {
   "cell_type": "code",
   "execution_count": null,
   "metadata": {},
   "outputs": [],
   "source": [
    "m = patternDoingScreenshot.search(logs, pos=100)\n",
    "if m: print( r'Screenshot \"{0}\" was taken at {1} (TimeStamp:{2}, line:{3})'.format(m.fullname, m.time, m.TimeStamp, m.pos))"
   ]
  },
  {
   "cell_type": "markdown",
   "metadata": {},
   "source": [
    "### Message waiting"
   ]
  },
  {
   "cell_type": "markdown",
   "metadata": {},
   "source": [
    "In order to wait for messages while logger is connected and listens for trace messages, you can use method `wait()` available in atomic patter. In this method you specify logger and maximum waiting time (timeout) in seconds. If *timeout lapses* while logger still have not received message, pattern throws *run-time exception*:"
   ]
  },
  {
   "cell_type": "code",
   "execution_count": 26,
   "metadata": {},
   "outputs": [
    {
     "ename": "RuntimeError",
     "evalue": "Pattern waiting timeout is lapsed",
     "output_type": "error",
     "traceback": [
      "\u001b[1;31m---------------------------------------------------------------------------\u001b[0m",
      "\u001b[1;31mRuntimeError\u001b[0m                              Traceback (most recent call last)",
      "\u001b[1;32m<ipython-input-26-82043016fd19>\u001b[0m in \u001b[0;36m<module>\u001b[1;34m()\u001b[0m\n\u001b[1;32m----> 1\u001b[1;33m \u001b[0mline\u001b[0m \u001b[1;33m=\u001b[0m \u001b[0mpattern\u001b[0m\u001b[1;33m.\u001b[0m\u001b[0mcompile\u001b[0m\u001b[1;33m(\u001b[0m\u001b[1;34m'x'\u001b[0m\u001b[1;33m*\u001b[0m\u001b[1;36m10\u001b[0m\u001b[1;33m)\u001b[0m\u001b[1;33m.\u001b[0m\u001b[0mwait\u001b[0m\u001b[1;33m(\u001b[0m\u001b[0mlogs\u001b[0m\u001b[1;33m,\u001b[0m \u001b[1;36m10\u001b[0m\u001b[1;33m)\u001b[0m\u001b[1;33m\u001b[0m\u001b[0m\n\u001b[0m\u001b[0;32m      2\u001b[0m \u001b[1;32mif\u001b[0m \u001b[0mline\u001b[0m\u001b[1;33m:\u001b[0m \u001b[1;32mprint\u001b[0m\u001b[1;33m(\u001b[0m\u001b[1;34m'{0} {1}'\u001b[0m\u001b[1;33m.\u001b[0m\u001b[0mformat\u001b[0m\u001b[1;33m(\u001b[0m\u001b[0mline\u001b[0m\u001b[1;33m,\u001b[0m \u001b[0mlogs\u001b[0m\u001b[1;33m.\u001b[0m\u001b[0mMessage\u001b[0m\u001b[1;33m[\u001b[0m\u001b[0mline\u001b[0m\u001b[1;33m-\u001b[0m\u001b[1;36m1\u001b[0m\u001b[1;33m]\u001b[0m\u001b[1;33m)\u001b[0m\u001b[1;33m)\u001b[0m\u001b[1;33m\u001b[0m\u001b[0m\n",
      "\u001b[1;32mC:\\Python27\\lib\\site-packages\\gautoy-0.1.dev20150731100039-py2.7.egg\\gautoy\\log\\pattern\\AtomicMessagePattern.pyc\u001b[0m in \u001b[0;36mwait\u001b[1;34m(self, log_frame, timeout)\u001b[0m\n\u001b[0;32m     72\u001b[0m         \u001b[0mendpos\u001b[0m \u001b[1;33m=\u001b[0m \u001b[0mlog_frame\u001b[0m\u001b[1;33m.\u001b[0m\u001b[0m_wait_re\u001b[0m\u001b[1;33m(\u001b[0m\u001b[0mself\u001b[0m\u001b[1;33m.\u001b[0m\u001b[0mlogger_pattern\u001b[0m\u001b[1;33m(\u001b[0m\u001b[0mlog_frame\u001b[0m\u001b[1;33m)\u001b[0m\u001b[1;33m,\u001b[0m \u001b[0mtimeout\u001b[0m\u001b[1;33m)\u001b[0m\u001b[1;33m\u001b[0m\u001b[0m\n\u001b[0;32m     73\u001b[0m         \u001b[1;32mif\u001b[0m \u001b[0mendpos\u001b[0m \u001b[1;32mis\u001b[0m \u001b[0mNone\u001b[0m\u001b[1;33m:\u001b[0m\u001b[1;33m\u001b[0m\u001b[0m\n\u001b[1;32m---> 74\u001b[1;33m             \u001b[1;32mraise\u001b[0m \u001b[0mRuntimeError\u001b[0m\u001b[1;33m(\u001b[0m\u001b[1;34m'Pattern waiting timeout is lapsed'\u001b[0m\u001b[1;33m)\u001b[0m \u001b[1;31m# TimeoutError\u001b[0m\u001b[1;33m\u001b[0m\u001b[0m\n\u001b[0m\u001b[0;32m     75\u001b[0m         \u001b[1;32mreturn\u001b[0m \u001b[0mendpos\u001b[0m\u001b[1;33m\u001b[0m\u001b[0m\n\u001b[0;32m     76\u001b[0m \u001b[1;33m\u001b[0m\u001b[0m\n",
      "\u001b[1;31mRuntimeError\u001b[0m: Pattern waiting timeout is lapsed"
     ]
    }
   ],
   "source": [
    "line = pattern.compile('x'*10).wait(logs, 10)\n",
    "if line: print('{0} {1}'.format(line, logs.Message[line-1]))"
   ]
  },
  {
   "cell_type": "markdown",
   "metadata": {},
   "source": [
    "Otherwise (message is found) it returns the line number next to the observed pattern match."
   ]
  },
  {
   "cell_type": "code",
   "execution_count": null,
   "metadata": {},
   "outputs": [],
   "source": [
    "patternCarPosition = pattern.compile(r'Some trace log for car position which includes ts[%d] route[%d] lon=%d lat=%d linkId=%d heading=%f link.heading=%f',\n",
    "                                     ['ts', 'route', 'lon_WGS84', 'lat_WGS84', 'linkId', 'heading', 'link_heading'])\n",
    "line = patternCarPosition.wait(logs, 10)\n",
    "if line: print('{0} \"{1}\"'.format(line, logs.Message[line-1]))"
   ]
  },
  {
   "cell_type": "markdown",
   "metadata": {},
   "source": [
    "### Assigning callbacks to patterns"
   ]
  },
  {
   "cell_type": "markdown",
   "metadata": {},
   "source": [
    "Assigning callbacks to patterns allows to handle match objects on flight (without collecting them in lists). It is particularly useful for pattern multi-sets (one can use `finditer()` method for this purpose in case of atomic and multi-line patterns).\n",
    "\n",
    "At first, obtain callable patterns by calling method `call()` with callback function as parameter. And then apply method `walk()` for the composed pattern. See example below:"
   ]
  },
  {
   "cell_type": "code",
   "execution_count": null,
   "metadata": {},
   "outputs": [],
   "source": [
    "def cb_mdatDumpManeuver(r): print(r'Maneuver {0.man_id} moves to road \"{0.road_prefix}{0.road_no}\"'.format(r))\n",
    "def cb_patternDoingScreenshot(r): \n",
    "    if r.date != datetime.date.today(): \n",
    "        print(r'Old screenshot \"{0.fullname}\" (date:{0.date}; today:{1})'.format(r, datetime.date.today()))\n",
    "\n",
    "( (mdatDumpManeuver & mdatWhereToRoad).call(cb_mdatDumpManeuver) \n",
    " | patternDoingScreenshot.call(cb_patternDoingScreenshot) ).walk(logs) "
   ]
  },
  {
   "cell_type": "markdown",
   "metadata": {},
   "source": [
    "### Patternic classes"
   ]
  },
  {
   "cell_type": "markdown",
   "metadata": {},
   "source": [
    "Patternic classes allow to customize pattern handling. In particular, method `walk()` of patternic classes allows to apply methods which handle patterns in a way simlar to applying callbacks with method `walk()` of patternic structures. Moreover, you can inhrerit pattern handlers from parents. \n",
    "\n",
    "In order to make class patternic use decorator `@patternic`. \n",
    "Decorator `@handler` allows to define methods that handle patterns."
   ]
  },
  {
   "cell_type": "markdown",
   "metadata": {},
   "source": [
    "Next example extends example with callbacks from section *\"Assigning callbacks to patterns\"* by printing car pasition in from of information about message matches."
   ]
  },
  {
   "cell_type": "code",
   "execution_count": null,
   "metadata": {},
   "outputs": [],
   "source": [
    "@pattern.patternic\n",
    "class WithCarPosition(object):\n",
    "    def __init__(self, log):\n",
    "        self.car_position = 0,0\n",
    "\n",
    "    @pattern.handler(patternCarPosition)\n",
    "    def storeCarPosition(self,r): \n",
    "        self.car_position = gautoy.converter.WGS84_to_latlon(r.lon_WGS84, r.lat_WGS84)\n",
    "\n",
    "@pattern.patternic\n",
    "class Notifier(WithCarPosition): # inherit from class which stores current car position\n",
    "    def __init__(self, log): \n",
    "        # Walk immediately inside constructor\n",
    "        self.walk(log)\n",
    "        \n",
    "    def message(self, msg): \n",
    "        # Decorate string output with current car position\n",
    "        print('[lat={0[0]} lon={0[1]}] {1}'.format(self.car_position, msg))\n",
    "\n",
    "    @pattern.handler(patternDoingScreenshot)\n",
    "    def handleDoingScreenshot(self,r): \n",
    "        if r.date != datetime.date.today(): \n",
    "            self.message(r'Old screenshot \"{0.fullname}\" (date:{0.date}; today:{1})'.format(r, datetime.date.today()))\n",
    "\n",
    "    @pattern.handler(mdatDumpManeuver & mdatWhereToRoad)\n",
    "    def handleWhereToRoad(self,r): self.message(r'Maneuver {0.man_id} moves to road \"{0.road_prefix}{0.road_no}\"'.format(r))\n",
    "\n",
    "Notifier(logs) # Run Notifier constructor (which automatically calls ``walk()``)\n",
    "None"
   ]
  },
  {
   "cell_type": "markdown",
   "metadata": {},
   "source": [
    "## Other"
   ]
  },
  {
   "cell_type": "markdown",
   "metadata": {},
   "source": [
    "Somtimes it is useful to be aware of pattern which can be used for search directly inside logger backend. For this purposes you can use method `logger_pattern()`"
   ]
  },
  {
   "cell_type": "code",
   "execution_count": null,
   "metadata": {},
   "outputs": [],
   "source": [
    "print(patternMOST(funcId=0xC2F,device=0, size=1).logger_pattern(logs))"
   ]
  }
 ],
 "metadata": {
  "kernelspec": {
   "display_name": "Python 3",
   "language": "python",
   "name": "python3"
  },
  "language_info": {
   "codemirror_mode": {
    "name": "ipython",
    "version": 3
   },
   "file_extension": ".py",
   "mimetype": "text/x-python",
   "name": "python",
   "nbconvert_exporter": "python",
   "pygments_lexer": "ipython3",
   "version": "3.8.5"
  }
 },
 "nbformat": 4,
 "nbformat_minor": 1
}
