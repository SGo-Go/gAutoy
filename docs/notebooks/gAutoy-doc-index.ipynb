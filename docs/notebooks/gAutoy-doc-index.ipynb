{
 "cells": [
  {
   "cell_type": "markdown",
   "metadata": {},
   "source": [
    "# `gAutoy` Documentation"
   ]
  },
  {
   "cell_type": "markdown",
   "metadata": {},
   "source": [
    "This directory contains notebook-based documentation. Use of `gAutoy` requires basic `Python` and `Jupiter`/`IPython` skills. You can gain some by study introductory `Jupyter`/`IPython` notebook documentation:\n",
    "\n",
    "- [Crash Course](http://nbviewer.ipython.org/urls/bitbucket.org/cfdpython/cfd-python-class/raw/master/lessons/00_Quick_Python_Intro.ipynb): `Python`\n",
    "- [Official Documentation](http://ipython.org/ipython-doc/stable/interactive/index.html): `Jupiter`/`IPython` notebook\n",
    "\n",
    "or by watching the following videos:\n",
    "\n",
    "- Bacics of `Jupyter`/`IPython` notebook\n",
    "- In-depth `Jupiter`/`IPython` overview: [part 1](https://www.youtube.com/watch?v=05fA_DXgW-Y), [part 2](https://youtu.be/05fA_DXgW-Y?t=2h35m52s)\n",
    "- Selected Topics from [Detailed Tutorial](https://www.youtube.com/watch?v=Rc4JQWowG5I&list=PLRJx8WOUx5XcDMOxSQegCJUjTJePTlF9Z) on `Jupyter` (`IPython 3`): \n",
    "  \n",
    "  - [part 1](https://www.youtube.com/watch?v=Rc4JQWowG5I): Introduction to the System\n",
    "  - [part 2](https://www.youtube.com/watch?v=-F4WS8o-G2A): `Markdown` & $\\LaTeX$\n",
    "  - [part 3](https://www.youtube.com/watch?v=1I2Bz0qbMsc): `Python` Basics\n",
    "  - [part 7](https://www.youtube.com/watch?v=04zBNE2ZHSI): `pandas`"
   ]
  },
  {
   "cell_type": "markdown",
   "metadata": {},
   "source": [
    "## Cookbook"
   ]
  },
  {
   "cell_type": "markdown",
   "metadata": {},
   "source": [
    "- [Configuring](cookbook/gAutoy-cookbook-config.ipynb)\n",
    "- [Magics](cookbook/gAutoy-cookbook-magics.ipynb): `%%gautoy_bash`, `%gautoy_screenshot`\n",
    "- [Manipulations with Targets](cookbook/gAutoy-cookbook-target.ipynb)\n",
    "- [Target Processes and Callbacks Manager](cookbook/gAutoy-cookbook-cbm.ipynb)\n",
    "- [Logger](cookbook/gAutoy-cookbook-logger.ipynb): Traces Analysis with Highly Customizable Output and Callbacks Availability\n",
    "\n",
    "    - [Patterns](cookbook/gAutoy-cookbook-pattern.ipynb): Pattern Specification, Patternic Algebra, and Improved Search\n",
    "- Domains: Problem Oriented Extensions\n",
    "\n",
    "    - [Map](cookbook/gAutoy-cookbook-domain-map.ipynb): Manipulations with Maps (visualization, modification, storing)\n",
    "    - [`MOST`](cookbook/gAutoy-cookbook-domain-most.ipynb): Classes for work with MOST protocol function catalogs"
   ]
  },
  {
   "cell_type": "markdown",
   "metadata": {},
   "source": [
    "## Examples"
   ]
  },
  {
   "cell_type": "markdown",
   "metadata": {},
   "source": [
    "### Cells collection"
   ]
  },
  {
   "cell_type": "markdown",
   "metadata": {},
   "source": [
    "This is a collection of usefull cells."
   ]
  },
  {
   "cell_type": "markdown",
   "metadata": {},
   "source": [
    "- [Magics cells](cells/gAutoy-cells-magics.ipynb)\n",
    "- [other](cells/gAutoy-cells-collection.ipynb)"
   ]
  }
 ],
 "metadata": {
  "kernelspec": {
   "display_name": "Python 3",
   "language": "python",
   "name": "python3"
  },
  "language_info": {
   "codemirror_mode": {
    "name": "ipython",
    "version": 3
   },
   "file_extension": ".py",
   "mimetype": "text/x-python",
   "name": "python",
   "nbconvert_exporter": "python",
   "pygments_lexer": "ipython3",
   "version": "3.8.5"
  }
 },
 "nbformat": 4,
 "nbformat_minor": 1
}
